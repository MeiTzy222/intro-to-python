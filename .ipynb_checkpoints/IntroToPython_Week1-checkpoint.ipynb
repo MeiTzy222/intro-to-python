{
 "cells": [
  {
   "cell_type": "markdown",
   "metadata": {},
   "source": [
    "# What is Coding?\n",
    "\n",
    "What does writing a program means?\n",
    "\n",
    "Food for thought: What are some of the traits a program should have in order to be useful?"
   ]
  },
  {
   "cell_type": "markdown",
   "metadata": {},
   "source": [
    "# Data Types"
   ]
  },
  {
   "cell_type": "markdown",
   "metadata": {},
   "source": [
    "The basic data types - Integer, Float, None, Boolean, String"
   ]
  },
  {
   "cell_type": "code",
   "execution_count": 2,
   "metadata": {},
   "outputs": [
    {
     "name": "stdout",
     "output_type": "stream",
     "text": [
      "Hello\n",
      "<class 'NoneType'>\n",
      "<class 'int'>\n",
      "<class 'float'>\n",
      "<class 'bool'>\n"
     ]
    }
   ],
   "source": [
    "# Food for thought: Why is Data Type so important?\n",
    "# Hint: Computer only understands bytes (i.e. 1s and 0s)\n",
    "\n",
    "# Now go ahead and play with different data types\n",
    "print('Hello')\n",
    "\n",
    "print(type(None))\n",
    "print(type(17))\n",
    "print(type(1.23))\n",
    "print(type(True))"
   ]
  },
  {
   "cell_type": "code",
   "execution_count": 4,
   "metadata": {},
   "outputs": [
    {
     "data": {
      "text/plain": [
       "24"
      ]
     },
     "execution_count": 4,
     "metadata": {},
     "output_type": "execute_result"
    }
   ],
   "source": [
    "# Food for thought: Why does it matter to have different date types? Hint: What is scarce in a machine?\n",
    "\n",
    "import sys\n",
    "\n",
    "sys.getsizeof('')\n",
    "sys.getsizeof('a')\n",
    "sys.getsizeof('ab')\n",
    "\n",
    "# What else did you notice here which looks bizzare to you?"
   ]
  },
  {
   "cell_type": "markdown",
   "metadata": {},
   "source": [
    "What else did you notice here which looks bizzare to you?\n",
    "\n",
    "Next lesson - Operator and Operands"
   ]
  }
 ],
 "metadata": {
  "kernelspec": {
   "display_name": "Python 3",
   "language": "python",
   "name": "python3"
  },
  "language_info": {
   "codemirror_mode": {
    "name": "ipython",
    "version": 3
   },
   "file_extension": ".py",
   "mimetype": "text/x-python",
   "name": "python",
   "nbconvert_exporter": "python",
   "pygments_lexer": "ipython3",
   "version": "3.6.1"
  }
 },
 "nbformat": 4,
 "nbformat_minor": 2
}
